{
 "cells": [
  {
   "cell_type": "code",
   "execution_count": 55,
   "metadata": {},
   "outputs": [],
   "source": [
    "from math import sqrt\n",
    "import matplotlib.pyplot as plt"
   ]
  },
  {
   "cell_type": "code",
   "execution_count": 57,
   "metadata": {},
   "outputs": [],
   "source": [
    "degree = int(input(\"Enter the degree\"))\n",
    "\n",
    "coefficients = []\n",
    "\n",
    "for i in range(degree + 1):\n",
    "    value = int(input(f\"Enter coefficient a{i}: \"))\n",
    "    coefficients.append(value)"
   ]
  },
  {
   "cell_type": "code",
   "execution_count": 59,
   "metadata": {},
   "outputs": [],
   "source": [
    "def value_range(coefficients):\n",
    "    # Ensure that we have at least 3 coefficients to perform calculation\n",
    "    if len(coefficients) < 3:\n",
    "        print(\"Not enough coefficients to calculate value range.\")\n",
    "        return None\n",
    "    \n",
    "    # Calculate the value range based on specific coefficients\n",
    "    \n",
    "    # Example calculation for a quadratic polynomial\n",
    "    discriminant = (coefficients[1] ** 2) - (4 * coefficients[0] * coefficients[2])\n",
    "    \n",
    "    if discriminant < 0:\n",
    "        print(\"The polynomial has no real roots!\")\n",
    "        return None\n",
    "    else:\n",
    "        root1 = (-coefficients[1] + sqrt(discriminant)) / (2 * coefficients[0])\n",
    "        root2 = (-coefficients[1] - sqrt(discriminant)) / (2 * coefficients[0])\n",
    "        return (root1, root2)\n",
    "\n",
    "\n",
    "range_result = value_range(coefficients)"
   ]
  },
  {
   "cell_type": "code",
   "execution_count": null,
   "metadata": {},
   "outputs": [],
   "source": [
    "# from math import sqrt\n",
    "\n",
    "# def valueRange(coefficients):\n",
    "#     return sqrt(((coefficients[1] / coefficients[0]) ** 2) - 2 * (coefficients[2] / coefficients[0]))\n",
    "\n",
    "# print(valueRange)"
   ]
  },
  {
   "cell_type": "code",
   "execution_count": 62,
   "metadata": {},
   "outputs": [
    {
     "data": {
      "text/plain": [
       "(2.0, -1.0)"
      ]
     },
     "execution_count": 62,
     "metadata": {},
     "output_type": "execute_result"
    }
   ],
   "source": [
    "range_result"
   ]
  },
  {
   "cell_type": "code",
   "execution_count": 63,
   "metadata": {},
   "outputs": [],
   "source": [
    "def f(x, coefficients) :\n",
    "    value = 0\n",
    "    for i in range(degree + 1):\n",
    "        value += coefficients[i] * (x ** (degree - i))\n",
    "        # print(f\" i = {i} --> value -> {value} -> coefficients[{i}] -> {coefficients[i]}\")\n",
    "    return value"
   ]
  },
  {
   "cell_type": "code",
   "execution_count": 64,
   "metadata": {},
   "outputs": [
    {
     "name": "stdout",
     "output_type": "stream",
     "text": [
      "-2\n"
     ]
    }
   ],
   "source": [
    "x = f(0, coefficients)\n",
    "print(x)"
   ]
  },
  {
   "cell_type": "code",
   "execution_count": 66,
   "metadata": {},
   "outputs": [],
   "source": [
    "xValues = []\n",
    "yValues = []\n",
    "\n",
    "i = -range_result[0]\n",
    "\n",
    "while i <= range_result[1]:\n",
    "    xValues.append(i)\n",
    "    yValues.append(f(i, coefficients))\n",
    "    i += .1"
   ]
  },
  {
   "cell_type": "code",
   "execution_count": 67,
   "metadata": {},
   "outputs": [
    {
     "data": {
      "text/plain": [
       "<matplotlib.lines.Line2D at 0x236207a01a0>"
      ]
     },
     "execution_count": 67,
     "metadata": {},
     "output_type": "execute_result"
    },
    {
     "data": {
      "image/png": "[encoded data removed]",
      "text/plain": [
       "<Figure size 640x480 with 1 Axes>"
      ]
     },
     "metadata": {},
     "output_type": "display_data"
    }
   ],
   "source": [
    "plt.plot(xValues, yValues)\n",
    "\n",
    "plt.xlabel(\"X\")\n",
    "plt.ylabel(\"f(x)\")\n",
    "plt.title(f\"Graph of f(x)\")\n",
    "\n",
    "plt.grid()\n",
    "plt.axhline(y=0, color = \"black\") \n",
    "plt.axvline(x=0, color = \"black\")\n",
    "\n"
   ]
  },
  {
   "cell_type": "code",
   "execution_count": 1,
   "metadata": {},
   "outputs": [
    {
     "ename": "NameError",
     "evalue": "name 'value_range' is not defined",
     "output_type": "error",
     "traceback": [
      "\u001b[1;31m---------------------------------------------------------------------------\u001b[0m",
      "\u001b[1;31mNameError\u001b[0m                                 Traceback (most recent call last)",
      "Cell \u001b[1;32mIn[1], line 1\u001b[0m\n\u001b[1;32m----> 1\u001b[0m v \u001b[38;5;241m=\u001b[39m \u001b[43mvalue_range\u001b[49m(coefficients)\n",
      "\u001b[1;31mNameError\u001b[0m: name 'value_range' is not defined"
     ]
    }
   ],
   "source": [
    "\n"
   ]
  }
 ],
 "metadata": {
  "kernelspec": {
   "display_name": "Python 3",
   "language": "python",
   "name": "python3"
  },
  "language_info": {
   "codemirror_mode": {
    "name": "ipython",
    "version": 3
   },
   "file_extension": ".py",
   "mimetype": "text/x-python",
   "name": "python",
   "nbconvert_exporter": "python",
   "pygments_lexer": "ipython3",
   "version": "3.12.1"
  }
 },
 "nbformat": 4,
 "nbformat_minor": 2
}
