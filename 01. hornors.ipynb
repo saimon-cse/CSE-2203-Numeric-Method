{
 "cells": [
  {
   "cell_type": "markdown",
   "metadata": {},
   "source": [
    "Name: Saimon Islam\n",
    "ID: 202122104027"
   ]
  },
  {
   "cell_type": "markdown",
   "metadata": {},
   "source": [
    "a[n]x^n + a[n-1] x^n-1 + .... + a[1]x + a"
   ]
  },
  {
   "cell_type": "code",
   "execution_count": 1,
   "metadata": {},
   "outputs": [],
   "source": [
    "n = int(input(\"Enter the degree: \"))\n",
    "x = int(input(\"Enter the value for x: \"))\n",
    "\n",
    "list = []\n",
    "\n",
    "for i in range(n + 1):\n",
    "    list.append(int(input(f\"x^{n-i}\")))"
   ]
  },
  {
   "cell_type": "code",
   "execution_count": 3,
   "metadata": {},
   "outputs": [
    {
     "name": "stdout",
     "output_type": "stream",
     "text": [
      "[3, 5, 3, 2]\n"
     ]
    }
   ],
   "source": [
    "print(list)"
   ]
  },
  {
   "cell_type": "code",
   "execution_count": 2,
   "metadata": {},
   "outputs": [
    {
     "name": "stdout",
     "output_type": "stream",
     "text": [
      "52\n"
     ]
    }
   ],
   "source": [
    "p = list[0]\n",
    "\n",
    "for i in range(1, n + 1):\n",
    "    p = p * x + list[i]\n",
    "print(p)"
   ]
  }
 ],
 "metadata": {
  "kernelspec": {
   "display_name": "Python 3",
   "language": "python",
   "name": "python3"
  },
  "language_info": {
   "codemirror_mode": {
    "name": "ipython",
    "version": 3
   },
   "file_extension": ".py",
   "mimetype": "text/x-python",
   "name": "python",
   "nbconvert_exporter": "python",
   "pygments_lexer": "ipython3",
   "version": "3.12.1"
  }
 },
 "nbformat": 4,
 "nbformat_minor": 2
}
