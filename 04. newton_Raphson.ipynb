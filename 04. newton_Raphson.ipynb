{
 "cells": [
  {
   "cell_type": "code",
   "execution_count": 8,
   "metadata": {},
   "outputs": [],
   "source": [
    "from math import sqrt\n",
    "import matplotlib.pyplot as plt\n",
    "import sympy as sp"
   ]
  },
  {
   "cell_type": "code",
   "execution_count": 7,
   "metadata": {},
   "outputs": [],
   "source": [
    "degree = int(input(\"Enter the degree\"))\n",
    "\n",
    "coefficients = []\n",
    "\n",
    "for i in range(degree + 1):\n",
    "    value = int(input(f\"Enter coefficient a{i}: \"))\n",
    "    coefficients.append(value)"
   ]
  },
  {
   "cell_type": "code",
   "execution_count": null,
   "metadata": {},
   "outputs": [],
   "source": [
    "\n",
    "def fx(x, coefficients) :\n",
    "    value = 0\n",
    "    for i in range(degree + 1):\n",
    "        value += coefficients[i] * (x ** (degree - i))\n",
    "        # print(f\" i = {i} --> value -> {value} -> coefficients[{i}] -> {coefficients[i]}\")\n",
    "    return value"
   ]
  },
  {
   "cell_type": "code",
   "execution_count": 11,
   "metadata": {},
   "outputs": [],
   "source": [
    "def newton_raphson(f, x0, tol=1e-7, max_iter=100):\n",
    "    \"\"\"\n",
    "    Newton-Raphson method for finding roots of a function.\n",
    "\n",
    "    Parameters:\n",
    "        f (function): A function for which to find the root.\n",
    "        x0 (float): Initial guess for the root.\n",
    "        tol (float): Tolerance for convergence.\n",
    "        max_iter (int): Maximum number of iterations.\n",
    "\n",
    "    Returns:\n",
    "        float: Approximate root of the function.\n",
    "    \"\"\"\n",
    "    # Define the symbol and the derivative\n",
    "    x = sp.symbols('x')\n",
    "    f_sym = f(x)\n",
    "    f_prime_sym = sp.diff(f_sym, x)  # calculate derivative\n",
    "\n",
    "    # Convert to callable functions\n",
    "    f_func = sp.lambdify(x, f_sym)\n",
    "    f_prime_func = sp.lambdify(x, f_prime_sym)\n",
    "\n",
    "    current_x = x0\n",
    "    for i in range(max_iter):\n",
    "        f_current = f_func(current_x)\n",
    "        f_prime_current = f_prime_func(current_x)\n",
    "\n",
    "        if f_prime_current == 0:  # Prevent division by zero\n",
    "            print(\"Derivative is zero. No solution found.\")\n",
    "            return None\n",
    "\n",
    "        # Calculate the next approximation\n",
    "        next_x = current_x - f_current / f_prime_current\n",
    "\n",
    "        # Check for convergence\n",
    "        if abs(next_x - current_x) < tol:\n",
    "            print(f\"Converged in {i+1} iterations.\")\n",
    "            return next_x\n",
    "\n",
    "        current_x = next_x\n",
    "\n",
    "    print(\"Exceeded maximum iterations. No solution found.\")\n",
    "    return None"
   ]
  },
  {
   "cell_type": "code",
   "execution_count": 12,
   "metadata": {},
   "outputs": [
    {
     "name": "stdout",
     "output_type": "stream",
     "text": [
      "Converged in 1 iterations.\n",
      "Approximate root: 1.0\n"
     ]
    }
   ],
   "source": [
    "\n",
    "# Example usage\n",
    "if __name__ == \"__main__\":\n",
    "    # Define the function for which to find the root\n",
    "    def f(x):\n",
    "        return x**2 - 3*x + 2  # Example: f(x) = x^3 - x - 2\n",
    "    \n",
    "    initial_guess = 1.0  # Initial guess\n",
    "    root = newton_raphson(f, initial_guess)\n",
    "\n",
    "    if root is not None:\n",
    "        print(f\"Approximate root: {root}\")"
   ]
  },
  {
   "cell_type": "markdown",
   "metadata": {},
   "source": [
    "Class code\n",
    "----------"
   ]
  },
  {
   "cell_type": "code",
   "execution_count": null,
   "metadata": {},
   "outputs": [],
   "source": [
    "def f(x):\n",
    "    return x**2 - 3*x + 2"
   ]
  },
  {
   "cell_type": "code",
   "execution_count": null,
   "metadata": {},
   "outputs": [],
   "source": [
    "def fprime(x):\n",
    "    return 2*x - 3"
   ]
  },
  {
   "cell_type": "code",
   "execution_count": 14,
   "metadata": {},
   "outputs": [],
   "source": [
    "x0 = 0\n",
    "\n",
    "def newtonRaphson(x0):\n",
    "    for i in range(0, 100):\n",
    "        print(\"Iteration\", i+1)\n",
    "\n",
    "        if f(x0) == 0:\n",
    "            print(\"Root Found\")\n",
    "            return x0\n",
    "        else: \n",
    "            x1 = x0 - (f(x0)/fprime(x0))\n",
    "            x0 = x1\n",
    "    return x0\n"
   ]
  },
  {
   "cell_type": "code",
   "execution_count": null,
   "metadata": {},
   "outputs": [],
   "source": []
  }
 ],
 "metadata": {
  "kernelspec": {
   "display_name": "Python 3",
   "language": "python",
   "name": "python3"
  },
  "language_info": {
   "codemirror_mode": {
    "name": "ipython",
    "version": 3
   },
   "file_extension": ".py",
   "mimetype": "text/x-python",
   "name": "python",
   "nbconvert_exporter": "python",
   "pygments_lexer": "ipython3",
   "version": "3.12.1"
  }
 },
 "nbformat": 4,
 "nbformat_minor": 2
}
